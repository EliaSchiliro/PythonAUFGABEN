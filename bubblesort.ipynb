{
 "cells": [
  {
   "cell_type": "markdown",
   "metadata": {},
   "source": [
    "# Bubblesort"
   ]
  },
  {
   "cell_type": "markdown",
   "metadata": {},
   "source": [
    "Bubblesort ist der einfachste Sortieralgorithmus. Bubblesort durchläuft wiederholt die zu sortierende Liste, vergleicht jedes Paar benachbarter Elemente und tauscht sie aus, wenn sie in der falschen Reihenfolge sind. Wegen seiner durchschnittlichen Zeitkomplexität von O(n²) gilt er als ziemlich langsam und wird deshalb in der Praxis kaum verwendet."
   ]
  },
  {
   "cell_type": "markdown",
   "metadata": {},
   "source": [
    "Der folgende Algorithmus entspricht der klassischen Variante von Bubblesort."
   ]
  },
  {
   "cell_type": "code",
   "execution_count": null,
   "metadata": {},
   "outputs": [],
   "source": []
  }
 ],
 "metadata": {
  "kernelspec": {
   "display_name": "Python 3.10.7 64-bit",
   "language": "python",
   "name": "python3"
  },
  "language_info": {
   "codemirror_mode": {
    "name": "ipython",
    "version": 3
   },
   "file_extension": ".py",
   "mimetype": "text/x-python",
   "name": "python",
   "nbconvert_exporter": "python",
   "pygments_lexer": "ipython3",
   "version": "3.10.7"
  },
  "vscode": {
   "interpreter": {
    "hash": "4f99854e0584a3d90ce3adda35d433195a782f972a17f1e0f86af34738178045"
   }
  }
 },
 "nbformat": 4,
 "nbformat_minor": 2
}
