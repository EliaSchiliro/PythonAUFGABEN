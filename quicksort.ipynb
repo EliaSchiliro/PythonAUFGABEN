{
 "cells": [
  {
   "cell_type": "markdown",
   "metadata": {},
   "source": [
    "# Quicksort"
   ]
  },
  {
   "cell_type": "markdown",
   "metadata": {},
   "source": [
    "In diesem Notebook schauen wir uns den Quicksort Algorithmus an. Quicksort ist wie Mergesort ein Teile- und Herrsche-Algorithmus. Der Algorithmus wählt ein Pivotelement (Drehpunkt) aus und partioniert die Liste um das ausgewählte Pivotelement. Das Pivotelement kann auf unterschiedliche Weise ausgewählt werden. Z.B. kann immer das erste Element der Liste als Pivot, das letzte Element als Pivot, ein zufälliges Element als Pivot oder der Median als Pivot ausgewählt werden. Die durschnittliche Zeitkomplexität von Quicksort ist in O(n*log(n)). Der Worst-Case (O(n²)) würde dann eintreffen, wenn das Pivotelement immer das letzte Element der Liste ist und die Liste eigentlich schon sortiert wäre. Der Best-Case würde dann eintreffen, wenn das Pivotelement immer so gewählt wird, dass die Teillisten immer möglichst gleich gross sind und die Komplexität ist dann in O(n*log(n)). "
   ]
  },
  {
   "cell_type": "markdown",
   "metadata": {},
   "source": [
    "### Quicksort"
   ]
  },
  {
   "cell_type": "markdown",
   "metadata": {},
   "source": [
    "Der Kern vom Quicksort-Algorithmus ist die Partitionsfunktion, die die Elemente in einem Array so aufteilt, dass alle Elemente links von einem gewählten Pivotelement kleiner oder gleich diesem Element sind, und alle Elemente rechts davon grösser oder gleich dem Pivotelement. "
   ]
  },
  {
   "cell_type": "code",
   "execution_count": 1,
   "metadata": {},
   "outputs": [],
   "source": [
    "def partition(array, lo, hi):\n",
    "    pivot = array[lo]\n",
    "    i = lo + 1\n",
    "    j = hi\n",
    "    print(f\"Nach Zeile 4: {i=}, {j=}\")\n",
    "    \n",
    "    while (True):\n",
    "        while i < hi and array[i] < pivot:\n",
    "            i += 1\n",
    "            print(f\"Nach Zeile 9: {i=}, {j=}\")\n",
    "        \n",
    "        while array[j] > pivot:\n",
    "            j -= 1\n",
    "        if i >= j:\n",
    "            break\n",
    "            \n",
    "        array[i], array[j] = array[j], array[i]\n",
    "        i, j = i + 1, j - 1\n",
    "        print(f\"Nach Zeile 9: {i=}, {j=}\")\n",
    "        \n",
    "    array[lo], array[j] = array[j], array[lo]\n",
    "    return j"
   ]
  },
  {
   "cell_type": "code",
   "execution_count": 2,
   "metadata": {},
   "outputs": [
    {
     "name": "stdout",
     "output_type": "stream",
     "text": [
      "Nach Zeile 4: i=1, j=7\n",
      "Nach Zeile 9: i=2, j=4\n",
      "Nach Zeile 9: i=3, j=4\n",
      "Nach Zeile 9: i=4, j=3\n",
      "3\n",
      "[0, 3, 1, 3, 7, 7, 5, 4]\n"
     ]
    }
   ],
   "source": [
    "array = [3,7,1,7,0,3,5,4]\n",
    "pivot_pos = partition(array, 0, len(array) -1)\n",
    "\n",
    "print(pivot_pos)\n",
    "print(array)\n",
    "# vorsortieren um Pivot"
   ]
  },
  {
   "cell_type": "markdown",
   "metadata": {},
   "source": [
    "Die eigentliche Sortierfunktion ist dann sehr einfach zu implementieren:"
   ]
  },
  {
   "cell_type": "code",
   "execution_count": 12,
   "metadata": {},
   "outputs": [],
   "source": [
    "def quicksort(array):\n",
    "    sort_aux(array, 0, len(array)-1)\n",
    "    \n",
    "def sort_aux(array, lo, hi):\n",
    "    if hi <= lo:\n",
    "        return\n",
    "    # choose_pivot_and_swap_it_to_lo(array, lo, hi)\n",
    "    pivot_pos = partition(array, lo, hi)\n",
    "    # pivot_pos = 1\n",
    "    sort_aux(array, lo, pivot_pos - 1)\n",
    "    sort_aux(array, pivot_pos + 1, hi)"
   ]
  },
  {
   "cell_type": "code",
   "execution_count": null,
   "metadata": {},
   "outputs": [],
   "source": [
    "array = [4, 2, 5, 7, 9, 6, 4, 1]\n",
    "quicksort(array)\n",
    "print(array)\n",
    "print(pivot_pos)"
   ]
  },
  {
   "cell_type": "markdown",
   "metadata": {
    "collapsed": false
   },
   "source": [
    "#### Übung: \n",
    "Betrachten Sie Sequenz a = $\\langle3, 7, 1, 7, 0, 3, 5, 4\\rangle$.\n",
    "\n",
    "1. Simulieren Sie den Aufruf von partition(a, 0, 7) und geben Sie jeweils den Stand des Arrays und der i- und j-Pointer nach Zeile 4, 9 und 14 an. Was ist der Rückgabewert und wie sieht die Sequenz zum Terminierungszeitpunkt aus?\n",
    "\n",
    "\n",
    "2. Welche Eigenschaft sollte das Pivotelement allgemein günstigenfalls haben? Wählen Sie im folgenden das Pivotelement jeweils optimal, so dass die Anzahl der Aufrufe von sort_aux minimiert wird. Geben Sie die Aufrufe von sort_aux (jeweils mit dem Zustand des Arrays) an, wie sie in einem Durchlauf von sort(a) geschehen.\n",
    "\n",
    "    Geben Sie jeweils an, welches Pivotelement gewählt wird. Bei gleich gut geeigneten Pivotelementen wählen Sie bitte immer die kleinere Zahl und bei gleichen Zahlen, das Element, das gerade weiter vorne in der Sequenz steht. Hinweis Vergessen Sie bitte nicht, dass das Pivotelement in Zeile 8 des Algorithmus an Position lo getauscht wird. Vergessen Sie auch nicht die rekursiven Aufrufe für leere und einelementige Bereiche. Wenn Sie alles richtig machen, sollten Sie insgesamt neun Aufrufe von sort_aux benötigen.\n",
    "\n",
    "\n",
    "3. Was ist allgemein die schlechtestmöglichste Wahl für das Pivotelement? Geben Sie die ersten sieben Aufrufe von sort_aux für den Fall an, dass immer ein möglichst ungünstiges Pivotelement gewählt wird. Bei mehreren Kandidaten wählen Sie bitte wieder das erste. Erkennen Sie ein Muster? Wie viele Aufrufe wird Quicksort in diesem Fall insgesamt benötigen?\n"
   ]
  },
  {
   "cell_type": "code",
   "execution_count": null,
   "metadata": {},
   "outputs": [],
   "source": []
  },
  {
   "cell_type": "markdown",
   "metadata": {},
   "source": [
    "### Laufzeit Quicksort"
   ]
  },
  {
   "cell_type": "markdown",
   "metadata": {},
   "source": [
    "Auch hier wollen wir nun die Laufzeit vergleichen. "
   ]
  },
  {
   "cell_type": "code",
   "execution_count": 5,
   "metadata": {},
   "outputs": [],
   "source": [
    "import timeit\n",
    "import random"
   ]
  },
  {
   "cell_type": "code",
   "execution_count": 6,
   "metadata": {},
   "outputs": [],
   "source": [
    "def createRandArray(n):\n",
    "    a = [0]*n\n",
    "    for i in range(0, n):\n",
    "        a[i] = random.randint(0, n)\n",
    "    return a"
   ]
  },
  {
   "cell_type": "code",
   "execution_count": 7,
   "metadata": {},
   "outputs": [
    {
     "name": "stdout",
     "output_type": "stream",
     "text": [
      "quicksort auf 10 Elementen: 8.19999999990273e-06\n",
      "quicksort auf 100 Elementen: 8.06999999999336e-05\n",
      "quicksort auf 1000 Elementen: 0.001129900000000017\n",
      "quicksort auf 10000 Elementen: 0.015187300000000015\n",
      "quicksort auf 100000 Elementen: 0.19423730000000006\n",
      "quicksort auf 1000000 Elementen: 2.5341218\n"
     ]
    }
   ],
   "source": [
    "for i in range (1, 7):\n",
    "    a = createRandArray(10**i)\n",
    "    t = timeit.timeit(lambda: quicksort(a), number=1)\n",
    "    print(\"quicksort auf \" +str(10**i) + \" Elementen: \" + str(t))"
   ]
  },
  {
   "cell_type": "markdown",
   "metadata": {},
   "source": [
    "Auch hier sehen wir, dass die Laufzeit nur leicht überlinear ansteigt. Wir können mit quicksort sehr grosse Sequenzen effizient sortieren. "
   ]
  }
 ],
 "metadata": {
  "kernelspec": {
   "display_name": "Python 3.10.7 64-bit",
   "language": "python",
   "name": "python3"
  },
  "language_info": {
   "codemirror_mode": {
    "name": "ipython",
    "version": 3
   },
   "file_extension": ".py",
   "mimetype": "text/x-python",
   "name": "python",
   "nbconvert_exporter": "python",
   "pygments_lexer": "ipython3",
   "version": "3.10.7"
  },
  "metadata": {
   "interpreter": {
    "hash": "e6e291e5f1e395fd4c60a697aa05eabdab2d6cf120ddade3bf21a907e2cdf103"
   }
  },
  "toc": {
   "base_numbering": 1,
   "nav_menu": {},
   "number_sections": false,
   "sideBar": false,
   "skip_h1_title": false,
   "title_cell": "Table of Contents",
   "title_sidebar": "Contents",
   "toc_cell": false,
   "toc_position": {},
   "toc_section_display": false,
   "toc_window_display": false
  },
  "vscode": {
   "interpreter": {
    "hash": "4f99854e0584a3d90ce3adda35d433195a782f972a17f1e0f86af34738178045"
   }
  }
 },
 "nbformat": 4,
 "nbformat_minor": 4
}
